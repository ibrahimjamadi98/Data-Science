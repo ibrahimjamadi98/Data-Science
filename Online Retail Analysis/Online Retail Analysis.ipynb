{
 "cells": [
  {
   "cell_type": "code",
   "execution_count": 1,
   "id": "83223aa7",
   "metadata": {},
   "outputs": [],
   "source": [
    "import datetime as dt\n",
    "import pandas as pd"
   ]
  },
  {
   "cell_type": "markdown",
   "id": "dd11bd08",
   "metadata": {},
   "source": [
    "### Load Data"
   ]
  },
  {
   "cell_type": "code",
   "execution_count": 2,
   "id": "6c7b7385",
   "metadata": {
    "scrolled": false
   },
   "outputs": [
    {
     "data": {
      "text/html": [
       "<div>\n",
       "<style scoped>\n",
       "    .dataframe tbody tr th:only-of-type {\n",
       "        vertical-align: middle;\n",
       "    }\n",
       "\n",
       "    .dataframe tbody tr th {\n",
       "        vertical-align: top;\n",
       "    }\n",
       "\n",
       "    .dataframe thead th {\n",
       "        text-align: right;\n",
       "    }\n",
       "</style>\n",
       "<table border=\"1\" class=\"dataframe\">\n",
       "  <thead>\n",
       "    <tr style=\"text-align: right;\">\n",
       "      <th></th>\n",
       "      <th>Invoice</th>\n",
       "      <th>StockCode</th>\n",
       "      <th>Description</th>\n",
       "      <th>Quantity</th>\n",
       "      <th>InvoiceDate</th>\n",
       "      <th>Price</th>\n",
       "      <th>Customer ID</th>\n",
       "      <th>Country</th>\n",
       "    </tr>\n",
       "  </thead>\n",
       "  <tbody>\n",
       "    <tr>\n",
       "      <th>0</th>\n",
       "      <td>489434</td>\n",
       "      <td>85048</td>\n",
       "      <td>15CM CHRISTMAS GLASS BALL 20 LIGHTS</td>\n",
       "      <td>12</td>\n",
       "      <td>2009-12-01 07:45:00</td>\n",
       "      <td>6.95</td>\n",
       "      <td>13085.0</td>\n",
       "      <td>United Kingdom</td>\n",
       "    </tr>\n",
       "    <tr>\n",
       "      <th>1</th>\n",
       "      <td>489434</td>\n",
       "      <td>79323P</td>\n",
       "      <td>PINK CHERRY LIGHTS</td>\n",
       "      <td>12</td>\n",
       "      <td>2009-12-01 07:45:00</td>\n",
       "      <td>6.75</td>\n",
       "      <td>13085.0</td>\n",
       "      <td>United Kingdom</td>\n",
       "    </tr>\n",
       "    <tr>\n",
       "      <th>2</th>\n",
       "      <td>489434</td>\n",
       "      <td>79323W</td>\n",
       "      <td>WHITE CHERRY LIGHTS</td>\n",
       "      <td>12</td>\n",
       "      <td>2009-12-01 07:45:00</td>\n",
       "      <td>6.75</td>\n",
       "      <td>13085.0</td>\n",
       "      <td>United Kingdom</td>\n",
       "    </tr>\n",
       "    <tr>\n",
       "      <th>3</th>\n",
       "      <td>489434</td>\n",
       "      <td>22041</td>\n",
       "      <td>RECORD FRAME 7\" SINGLE SIZE</td>\n",
       "      <td>48</td>\n",
       "      <td>2009-12-01 07:45:00</td>\n",
       "      <td>2.10</td>\n",
       "      <td>13085.0</td>\n",
       "      <td>United Kingdom</td>\n",
       "    </tr>\n",
       "    <tr>\n",
       "      <th>4</th>\n",
       "      <td>489434</td>\n",
       "      <td>21232</td>\n",
       "      <td>STRAWBERRY CERAMIC TRINKET BOX</td>\n",
       "      <td>24</td>\n",
       "      <td>2009-12-01 07:45:00</td>\n",
       "      <td>1.25</td>\n",
       "      <td>13085.0</td>\n",
       "      <td>United Kingdom</td>\n",
       "    </tr>\n",
       "  </tbody>\n",
       "</table>\n",
       "</div>"
      ],
      "text/plain": [
       "  Invoice StockCode                          Description  Quantity  \\\n",
       "0  489434     85048  15CM CHRISTMAS GLASS BALL 20 LIGHTS        12   \n",
       "1  489434    79323P                   PINK CHERRY LIGHTS        12   \n",
       "2  489434    79323W                  WHITE CHERRY LIGHTS        12   \n",
       "3  489434     22041         RECORD FRAME 7\" SINGLE SIZE         48   \n",
       "4  489434     21232       STRAWBERRY CERAMIC TRINKET BOX        24   \n",
       "\n",
       "          InvoiceDate  Price  Customer ID         Country  \n",
       "0 2009-12-01 07:45:00   6.95      13085.0  United Kingdom  \n",
       "1 2009-12-01 07:45:00   6.75      13085.0  United Kingdom  \n",
       "2 2009-12-01 07:45:00   6.75      13085.0  United Kingdom  \n",
       "3 2009-12-01 07:45:00   2.10      13085.0  United Kingdom  \n",
       "4 2009-12-01 07:45:00   1.25      13085.0  United Kingdom  "
      ]
     },
     "execution_count": 2,
     "metadata": {},
     "output_type": "execute_result"
    }
   ],
   "source": [
    "df = pd.read_excel(\"/Users/masc/Desktop/MDM/online_retail_II.xlsx\")\n",
    "df.head()"
   ]
  },
  {
   "cell_type": "markdown",
   "id": "8e4ac71a",
   "metadata": {},
   "source": [
    "### Data preprocessing"
   ]
  },
  {
   "cell_type": "code",
   "execution_count": 3,
   "id": "c8bd25c0",
   "metadata": {},
   "outputs": [
    {
     "data": {
      "text/plain": [
       "(525461, 8)"
      ]
     },
     "execution_count": 3,
     "metadata": {},
     "output_type": "execute_result"
    }
   ],
   "source": [
    "df.shape"
   ]
  },
  {
   "cell_type": "code",
   "execution_count": 4,
   "id": "44907ddc",
   "metadata": {},
   "outputs": [
    {
     "data": {
      "text/html": [
       "<div>\n",
       "<style scoped>\n",
       "    .dataframe tbody tr th:only-of-type {\n",
       "        vertical-align: middle;\n",
       "    }\n",
       "\n",
       "    .dataframe tbody tr th {\n",
       "        vertical-align: top;\n",
       "    }\n",
       "\n",
       "    .dataframe thead th {\n",
       "        text-align: right;\n",
       "    }\n",
       "</style>\n",
       "<table border=\"1\" class=\"dataframe\">\n",
       "  <thead>\n",
       "    <tr style=\"text-align: right;\">\n",
       "      <th></th>\n",
       "      <th>count</th>\n",
       "      <th>mean</th>\n",
       "      <th>std</th>\n",
       "      <th>min</th>\n",
       "      <th>25%</th>\n",
       "      <th>50%</th>\n",
       "      <th>75%</th>\n",
       "      <th>max</th>\n",
       "    </tr>\n",
       "  </thead>\n",
       "  <tbody>\n",
       "    <tr>\n",
       "      <th>Quantity</th>\n",
       "      <td>525461.0</td>\n",
       "      <td>10.337667</td>\n",
       "      <td>107.424110</td>\n",
       "      <td>-9600.00</td>\n",
       "      <td>1.00</td>\n",
       "      <td>3.0</td>\n",
       "      <td>10.00</td>\n",
       "      <td>19152.00</td>\n",
       "    </tr>\n",
       "    <tr>\n",
       "      <th>Price</th>\n",
       "      <td>525461.0</td>\n",
       "      <td>4.688834</td>\n",
       "      <td>146.126914</td>\n",
       "      <td>-53594.36</td>\n",
       "      <td>1.25</td>\n",
       "      <td>2.1</td>\n",
       "      <td>4.21</td>\n",
       "      <td>25111.09</td>\n",
       "    </tr>\n",
       "    <tr>\n",
       "      <th>Customer ID</th>\n",
       "      <td>417534.0</td>\n",
       "      <td>15360.645478</td>\n",
       "      <td>1680.811316</td>\n",
       "      <td>12346.00</td>\n",
       "      <td>13983.00</td>\n",
       "      <td>15311.0</td>\n",
       "      <td>16799.00</td>\n",
       "      <td>18287.00</td>\n",
       "    </tr>\n",
       "  </tbody>\n",
       "</table>\n",
       "</div>"
      ],
      "text/plain": [
       "                count          mean          std       min       25%      50%  \\\n",
       "Quantity     525461.0     10.337667   107.424110  -9600.00      1.00      3.0   \n",
       "Price        525461.0      4.688834   146.126914 -53594.36      1.25      2.1   \n",
       "Customer ID  417534.0  15360.645478  1680.811316  12346.00  13983.00  15311.0   \n",
       "\n",
       "                  75%       max  \n",
       "Quantity        10.00  19152.00  \n",
       "Price            4.21  25111.09  \n",
       "Customer ID  16799.00  18287.00  "
      ]
     },
     "execution_count": 4,
     "metadata": {},
     "output_type": "execute_result"
    }
   ],
   "source": [
    "df.describe().T"
   ]
  },
  {
   "cell_type": "code",
   "execution_count": 5,
   "id": "ff94f13c",
   "metadata": {},
   "outputs": [
    {
     "data": {
      "text/plain": [
       "(511566, 8)"
      ]
     },
     "execution_count": 5,
     "metadata": {},
     "output_type": "execute_result"
    }
   ],
   "source": [
    "#removing negative values in Quantity and Price\n",
    "df = df[(df['Quantity'] > 0)]\n",
    "df = df[(df['Price'] > 0)]\n",
    "\n",
    "#df.describe()\n",
    "df.shape"
   ]
  },
  {
   "cell_type": "code",
   "execution_count": 6,
   "id": "9d46a426",
   "metadata": {
    "scrolled": true
   },
   "outputs": [
    {
     "data": {
      "text/plain": [
       "Invoice             0\n",
       "StockCode           0\n",
       "Description         0\n",
       "Quantity            0\n",
       "InvoiceDate         0\n",
       "Price               0\n",
       "Customer ID    103902\n",
       "Country             0\n",
       "dtype: int64"
      ]
     },
     "execution_count": 6,
     "metadata": {},
     "output_type": "execute_result"
    }
   ],
   "source": [
    "df.isnull().sum()"
   ]
  },
  {
   "cell_type": "markdown",
   "id": "49fc471b",
   "metadata": {},
   "source": [
    "There are missing values in Description and Customer ID columns, we will remove them from the DataFrame. Also, nn the DataFrame there are some invoices that include \"C\" in Invoice column which means that they are cancelled transactions so we will remove them from our DataFrame"
   ]
  },
  {
   "cell_type": "code",
   "execution_count": 7,
   "id": "07c05852",
   "metadata": {},
   "outputs": [],
   "source": [
    "df.dropna(inplace=True)\n",
    "#df = df[~df[\"Invoice\"].str.contains(\"C\", na=False)]"
   ]
  },
  {
   "cell_type": "markdown",
   "id": "78f61ba4",
   "metadata": {},
   "source": [
    "There should be no negative value in Quantity and Price columns."
   ]
  },
  {
   "cell_type": "code",
   "execution_count": 8,
   "id": "0d5e5d2a",
   "metadata": {},
   "outputs": [
    {
     "data": {
      "text/plain": [
       "(407664, 8)"
      ]
     },
     "execution_count": 8,
     "metadata": {},
     "output_type": "execute_result"
    }
   ],
   "source": [
    "#removing negative values in Quantity and Price\n",
    "df = df[(df['Quantity'] > 0)]\n",
    "df = df[(df['Price'] > 0)]\n",
    "\n",
    "#df.describe()\n",
    "df.shape"
   ]
  },
  {
   "cell_type": "code",
   "execution_count": 9,
   "id": "0bb16d8e",
   "metadata": {},
   "outputs": [
    {
     "data": {
      "text/html": [
       "<div>\n",
       "<style scoped>\n",
       "    .dataframe tbody tr th:only-of-type {\n",
       "        vertical-align: middle;\n",
       "    }\n",
       "\n",
       "    .dataframe tbody tr th {\n",
       "        vertical-align: top;\n",
       "    }\n",
       "\n",
       "    .dataframe thead th {\n",
       "        text-align: right;\n",
       "    }\n",
       "</style>\n",
       "<table border=\"1\" class=\"dataframe\">\n",
       "  <thead>\n",
       "    <tr style=\"text-align: right;\">\n",
       "      <th></th>\n",
       "      <th>Invoice</th>\n",
       "      <th>StockCode</th>\n",
       "      <th>Description</th>\n",
       "      <th>Quantity</th>\n",
       "      <th>InvoiceDate</th>\n",
       "      <th>Price</th>\n",
       "      <th>Customer ID</th>\n",
       "      <th>Country</th>\n",
       "      <th>TotalPrice</th>\n",
       "    </tr>\n",
       "  </thead>\n",
       "  <tbody>\n",
       "    <tr>\n",
       "      <th>0</th>\n",
       "      <td>489434</td>\n",
       "      <td>85048</td>\n",
       "      <td>15CM CHRISTMAS GLASS BALL 20 LIGHTS</td>\n",
       "      <td>12</td>\n",
       "      <td>2009-12-01 07:45:00</td>\n",
       "      <td>6.95</td>\n",
       "      <td>13085.0</td>\n",
       "      <td>United Kingdom</td>\n",
       "      <td>83.4</td>\n",
       "    </tr>\n",
       "    <tr>\n",
       "      <th>1</th>\n",
       "      <td>489434</td>\n",
       "      <td>79323P</td>\n",
       "      <td>PINK CHERRY LIGHTS</td>\n",
       "      <td>12</td>\n",
       "      <td>2009-12-01 07:45:00</td>\n",
       "      <td>6.75</td>\n",
       "      <td>13085.0</td>\n",
       "      <td>United Kingdom</td>\n",
       "      <td>81.0</td>\n",
       "    </tr>\n",
       "    <tr>\n",
       "      <th>2</th>\n",
       "      <td>489434</td>\n",
       "      <td>79323W</td>\n",
       "      <td>WHITE CHERRY LIGHTS</td>\n",
       "      <td>12</td>\n",
       "      <td>2009-12-01 07:45:00</td>\n",
       "      <td>6.75</td>\n",
       "      <td>13085.0</td>\n",
       "      <td>United Kingdom</td>\n",
       "      <td>81.0</td>\n",
       "    </tr>\n",
       "    <tr>\n",
       "      <th>3</th>\n",
       "      <td>489434</td>\n",
       "      <td>22041</td>\n",
       "      <td>RECORD FRAME 7\" SINGLE SIZE</td>\n",
       "      <td>48</td>\n",
       "      <td>2009-12-01 07:45:00</td>\n",
       "      <td>2.10</td>\n",
       "      <td>13085.0</td>\n",
       "      <td>United Kingdom</td>\n",
       "      <td>100.8</td>\n",
       "    </tr>\n",
       "    <tr>\n",
       "      <th>4</th>\n",
       "      <td>489434</td>\n",
       "      <td>21232</td>\n",
       "      <td>STRAWBERRY CERAMIC TRINKET BOX</td>\n",
       "      <td>24</td>\n",
       "      <td>2009-12-01 07:45:00</td>\n",
       "      <td>1.25</td>\n",
       "      <td>13085.0</td>\n",
       "      <td>United Kingdom</td>\n",
       "      <td>30.0</td>\n",
       "    </tr>\n",
       "  </tbody>\n",
       "</table>\n",
       "</div>"
      ],
      "text/plain": [
       "  Invoice StockCode                          Description  Quantity  \\\n",
       "0  489434     85048  15CM CHRISTMAS GLASS BALL 20 LIGHTS        12   \n",
       "1  489434    79323P                   PINK CHERRY LIGHTS        12   \n",
       "2  489434    79323W                  WHITE CHERRY LIGHTS        12   \n",
       "3  489434     22041         RECORD FRAME 7\" SINGLE SIZE         48   \n",
       "4  489434     21232       STRAWBERRY CERAMIC TRINKET BOX        24   \n",
       "\n",
       "          InvoiceDate  Price  Customer ID         Country  TotalPrice  \n",
       "0 2009-12-01 07:45:00   6.95      13085.0  United Kingdom        83.4  \n",
       "1 2009-12-01 07:45:00   6.75      13085.0  United Kingdom        81.0  \n",
       "2 2009-12-01 07:45:00   6.75      13085.0  United Kingdom        81.0  \n",
       "3 2009-12-01 07:45:00   2.10      13085.0  United Kingdom       100.8  \n",
       "4 2009-12-01 07:45:00   1.25      13085.0  United Kingdom        30.0  "
      ]
     },
     "execution_count": 9,
     "metadata": {},
     "output_type": "execute_result"
    }
   ],
   "source": [
    "#Create a variable named 'TotalPrice' that represents the total earnings per invoice\n",
    "\n",
    "df[\"TotalPrice\"] = df[\"Quantity\"] * df[\"Price\"]\n",
    "\n",
    "#df.describe()\n",
    "df.head()"
   ]
  },
  {
   "cell_type": "markdown",
   "id": "62dcf8fa",
   "metadata": {},
   "source": [
    "### RFM Analysis"
   ]
  },
  {
   "cell_type": "code",
   "execution_count": 10,
   "id": "5234f44b",
   "metadata": {},
   "outputs": [],
   "source": [
    "# Defining Recency as two of the three columns in data:\n",
    "recency = df[['InvoiceDate', 'Customer ID']]"
   ]
  },
  {
   "cell_type": "code",
   "execution_count": 11,
   "id": "1ca91e01",
   "metadata": {},
   "outputs": [],
   "source": [
    "# now refers to the latest date available in the data, to which we will peg our rececny dimensions on:\n",
    "now = max(df['InvoiceDate'])"
   ]
  },
  {
   "cell_type": "markdown",
   "id": "b593f213",
   "metadata": {},
   "source": [
    "The groupby function in pandas allows of for grouping of many index column values or as we saw above there were more than one instances of a single customer purchasing so why not combine all their purchases?"
   ]
  },
  {
   "cell_type": "code",
   "execution_count": 12,
   "id": "2df2130c",
   "metadata": {},
   "outputs": [],
   "source": [
    "recency = recency.groupby(['Customer ID']).max()"
   ]
  },
  {
   "cell_type": "markdown",
   "id": "ddbe8eb6",
   "metadata": {},
   "source": [
    "Recency refers to the time since the last purchase. So lets find out the number of days:"
   ]
  },
  {
   "cell_type": "code",
   "execution_count": 13,
   "id": "f25bd9b7",
   "metadata": {},
   "outputs": [],
   "source": [
    "recency_days = now - recency['InvoiceDate']"
   ]
  },
  {
   "cell_type": "code",
   "execution_count": 14,
   "id": "151400bc",
   "metadata": {
    "scrolled": true
   },
   "outputs": [
    {
     "data": {
      "text/html": [
       "<div>\n",
       "<style scoped>\n",
       "    .dataframe tbody tr th:only-of-type {\n",
       "        vertical-align: middle;\n",
       "    }\n",
       "\n",
       "    .dataframe tbody tr th {\n",
       "        vertical-align: top;\n",
       "    }\n",
       "\n",
       "    .dataframe thead th {\n",
       "        text-align: right;\n",
       "    }\n",
       "</style>\n",
       "<table border=\"1\" class=\"dataframe\">\n",
       "  <thead>\n",
       "    <tr style=\"text-align: right;\">\n",
       "      <th></th>\n",
       "      <th>InvoiceDate</th>\n",
       "    </tr>\n",
       "    <tr>\n",
       "      <th>Customer ID</th>\n",
       "      <th></th>\n",
       "    </tr>\n",
       "  </thead>\n",
       "  <tbody>\n",
       "    <tr>\n",
       "      <th>12346.0</th>\n",
       "      <td>164 days 06:08:00</td>\n",
       "    </tr>\n",
       "    <tr>\n",
       "      <th>12347.0</th>\n",
       "      <td>2 days 05:04:00</td>\n",
       "    </tr>\n",
       "    <tr>\n",
       "      <th>12348.0</th>\n",
       "      <td>73 days 05:02:00</td>\n",
       "    </tr>\n",
       "    <tr>\n",
       "      <th>12349.0</th>\n",
       "      <td>42 days 11:38:00</td>\n",
       "    </tr>\n",
       "    <tr>\n",
       "      <th>12351.0</th>\n",
       "      <td>10 days 04:38:00</td>\n",
       "    </tr>\n",
       "  </tbody>\n",
       "</table>\n",
       "</div>"
      ],
      "text/plain": [
       "                  InvoiceDate\n",
       "Customer ID                  \n",
       "12346.0     164 days 06:08:00\n",
       "12347.0       2 days 05:04:00\n",
       "12348.0      73 days 05:02:00\n",
       "12349.0      42 days 11:38:00\n",
       "12351.0      10 days 04:38:00"
      ]
     },
     "execution_count": 14,
     "metadata": {},
     "output_type": "execute_result"
    }
   ],
   "source": [
    "recency_days = pd.DataFrame(recency_days)\n",
    "recency_days.head()"
   ]
  },
  {
   "cell_type": "markdown",
   "id": "d8c0ade4",
   "metadata": {},
   "source": [
    "Monetary refers to the total money spent by a customer overtime:"
   ]
  },
  {
   "cell_type": "code",
   "execution_count": 15,
   "id": "5568103e",
   "metadata": {},
   "outputs": [],
   "source": [
    "monetary = df[['Customer ID', 'Quantity']]"
   ]
  },
  {
   "cell_type": "markdown",
   "id": "23ae6b63",
   "metadata": {},
   "source": [
    "Via Groupby here, I sum up all the transactions of every respective customer:"
   ]
  },
  {
   "cell_type": "code",
   "execution_count": 16,
   "id": "d1c835bc",
   "metadata": {},
   "outputs": [
    {
     "data": {
      "text/html": [
       "<div>\n",
       "<style scoped>\n",
       "    .dataframe tbody tr th:only-of-type {\n",
       "        vertical-align: middle;\n",
       "    }\n",
       "\n",
       "    .dataframe tbody tr th {\n",
       "        vertical-align: top;\n",
       "    }\n",
       "\n",
       "    .dataframe thead th {\n",
       "        text-align: right;\n",
       "    }\n",
       "</style>\n",
       "<table border=\"1\" class=\"dataframe\">\n",
       "  <thead>\n",
       "    <tr style=\"text-align: right;\">\n",
       "      <th></th>\n",
       "      <th>Quantity</th>\n",
       "    </tr>\n",
       "    <tr>\n",
       "      <th>Customer ID</th>\n",
       "      <th></th>\n",
       "    </tr>\n",
       "  </thead>\n",
       "  <tbody>\n",
       "    <tr>\n",
       "      <th>12346.0</th>\n",
       "      <td>70</td>\n",
       "    </tr>\n",
       "    <tr>\n",
       "      <th>12347.0</th>\n",
       "      <td>828</td>\n",
       "    </tr>\n",
       "    <tr>\n",
       "      <th>12348.0</th>\n",
       "      <td>373</td>\n",
       "    </tr>\n",
       "    <tr>\n",
       "      <th>12349.0</th>\n",
       "      <td>993</td>\n",
       "    </tr>\n",
       "    <tr>\n",
       "      <th>12351.0</th>\n",
       "      <td>261</td>\n",
       "    </tr>\n",
       "  </tbody>\n",
       "</table>\n",
       "</div>"
      ],
      "text/plain": [
       "             Quantity\n",
       "Customer ID          \n",
       "12346.0            70\n",
       "12347.0           828\n",
       "12348.0           373\n",
       "12349.0           993\n",
       "12351.0           261"
      ]
     },
     "execution_count": 16,
     "metadata": {},
     "output_type": "execute_result"
    }
   ],
   "source": [
    "monetary = monetary.groupby(['Customer ID']).sum()\n",
    "\n",
    "monetary.head()"
   ]
  },
  {
   "cell_type": "markdown",
   "id": "971d3320",
   "metadata": {},
   "source": [
    "Frequency refers to the number of times a customer has made purchases:"
   ]
  },
  {
   "cell_type": "code",
   "execution_count": 17,
   "id": "811c9ddf",
   "metadata": {},
   "outputs": [],
   "source": [
    "frequency = df[['Customer ID', 'InvoiceDate']]"
   ]
  },
  {
   "cell_type": "markdown",
   "id": "a2157a6c",
   "metadata": {},
   "source": [
    "Via Groupby, I use count to count the number of times the customer has made purchases:"
   ]
  },
  {
   "cell_type": "code",
   "execution_count": 18,
   "id": "83a294ff",
   "metadata": {},
   "outputs": [
    {
     "data": {
      "text/html": [
       "<div>\n",
       "<style scoped>\n",
       "    .dataframe tbody tr th:only-of-type {\n",
       "        vertical-align: middle;\n",
       "    }\n",
       "\n",
       "    .dataframe tbody tr th {\n",
       "        vertical-align: top;\n",
       "    }\n",
       "\n",
       "    .dataframe thead th {\n",
       "        text-align: right;\n",
       "    }\n",
       "</style>\n",
       "<table border=\"1\" class=\"dataframe\">\n",
       "  <thead>\n",
       "    <tr style=\"text-align: right;\">\n",
       "      <th></th>\n",
       "      <th>InvoiceDate</th>\n",
       "    </tr>\n",
       "    <tr>\n",
       "      <th>Customer ID</th>\n",
       "      <th></th>\n",
       "    </tr>\n",
       "  </thead>\n",
       "  <tbody>\n",
       "    <tr>\n",
       "      <th>12346.0</th>\n",
       "      <td>33</td>\n",
       "    </tr>\n",
       "    <tr>\n",
       "      <th>12347.0</th>\n",
       "      <td>71</td>\n",
       "    </tr>\n",
       "    <tr>\n",
       "      <th>12348.0</th>\n",
       "      <td>20</td>\n",
       "    </tr>\n",
       "    <tr>\n",
       "      <th>12349.0</th>\n",
       "      <td>102</td>\n",
       "    </tr>\n",
       "    <tr>\n",
       "      <th>12351.0</th>\n",
       "      <td>21</td>\n",
       "    </tr>\n",
       "  </tbody>\n",
       "</table>\n",
       "</div>"
      ],
      "text/plain": [
       "             InvoiceDate\n",
       "Customer ID             \n",
       "12346.0               33\n",
       "12347.0               71\n",
       "12348.0               20\n",
       "12349.0              102\n",
       "12351.0               21"
      ]
     },
     "execution_count": 18,
     "metadata": {},
     "output_type": "execute_result"
    }
   ],
   "source": [
    "frequency = frequency.groupby(['Customer ID']).count()\n",
    "frequency.head()"
   ]
  },
  {
   "cell_type": "markdown",
   "id": "af767bb7",
   "metadata": {},
   "source": [
    "Finally concatenating the dataframes:"
   ]
  },
  {
   "cell_type": "code",
   "execution_count": 19,
   "id": "d9cdaa3e",
   "metadata": {},
   "outputs": [
    {
     "data": {
      "text/html": [
       "<div>\n",
       "<style scoped>\n",
       "    .dataframe tbody tr th:only-of-type {\n",
       "        vertical-align: middle;\n",
       "    }\n",
       "\n",
       "    .dataframe tbody tr th {\n",
       "        vertical-align: top;\n",
       "    }\n",
       "\n",
       "    .dataframe thead th {\n",
       "        text-align: right;\n",
       "    }\n",
       "</style>\n",
       "<table border=\"1\" class=\"dataframe\">\n",
       "  <thead>\n",
       "    <tr style=\"text-align: right;\">\n",
       "      <th></th>\n",
       "      <th>recency</th>\n",
       "    </tr>\n",
       "    <tr>\n",
       "      <th>Customer ID</th>\n",
       "      <th></th>\n",
       "    </tr>\n",
       "  </thead>\n",
       "  <tbody>\n",
       "    <tr>\n",
       "      <th>12346.0</th>\n",
       "      <td>164.0</td>\n",
       "    </tr>\n",
       "    <tr>\n",
       "      <th>12347.0</th>\n",
       "      <td>2.0</td>\n",
       "    </tr>\n",
       "    <tr>\n",
       "      <th>12348.0</th>\n",
       "      <td>73.0</td>\n",
       "    </tr>\n",
       "    <tr>\n",
       "      <th>12349.0</th>\n",
       "      <td>42.0</td>\n",
       "    </tr>\n",
       "    <tr>\n",
       "      <th>12351.0</th>\n",
       "      <td>10.0</td>\n",
       "    </tr>\n",
       "  </tbody>\n",
       "</table>\n",
       "</div>"
      ],
      "text/plain": [
       "             recency\n",
       "Customer ID         \n",
       "12346.0        164.0\n",
       "12347.0          2.0\n",
       "12348.0         73.0\n",
       "12349.0         42.0\n",
       "12351.0         10.0"
      ]
     },
     "execution_count": 19,
     "metadata": {},
     "output_type": "execute_result"
    }
   ],
   "source": [
    "recency = pd.DataFrame(recency_days['InvoiceDate'].astype('timedelta64[D]'))\n",
    "recency.columns = ['recency']\n",
    "\n",
    "recency.head()"
   ]
  },
  {
   "cell_type": "markdown",
   "id": "e3a901bb",
   "metadata": {},
   "source": [
    "Since we have the absolute integer values of all the three key elements lets concatenate them:"
   ]
  },
  {
   "cell_type": "code",
   "execution_count": 20,
   "id": "0065e0f0",
   "metadata": {},
   "outputs": [],
   "source": [
    "rfm = pd.concat([recency, frequency, monetary], axis=1)"
   ]
  },
  {
   "cell_type": "code",
   "execution_count": 21,
   "id": "7cb997c8",
   "metadata": {
    "scrolled": false
   },
   "outputs": [
    {
     "data": {
      "text/html": [
       "<div>\n",
       "<style scoped>\n",
       "    .dataframe tbody tr th:only-of-type {\n",
       "        vertical-align: middle;\n",
       "    }\n",
       "\n",
       "    .dataframe tbody tr th {\n",
       "        vertical-align: top;\n",
       "    }\n",
       "\n",
       "    .dataframe thead th {\n",
       "        text-align: right;\n",
       "    }\n",
       "</style>\n",
       "<table border=\"1\" class=\"dataframe\">\n",
       "  <thead>\n",
       "    <tr style=\"text-align: right;\">\n",
       "      <th></th>\n",
       "      <th>recency</th>\n",
       "      <th>frequency</th>\n",
       "      <th>monetary</th>\n",
       "    </tr>\n",
       "    <tr>\n",
       "      <th>Customer ID</th>\n",
       "      <th></th>\n",
       "      <th></th>\n",
       "      <th></th>\n",
       "    </tr>\n",
       "  </thead>\n",
       "  <tbody>\n",
       "    <tr>\n",
       "      <th>12346.0</th>\n",
       "      <td>164.0</td>\n",
       "      <td>33</td>\n",
       "      <td>70</td>\n",
       "    </tr>\n",
       "    <tr>\n",
       "      <th>12347.0</th>\n",
       "      <td>2.0</td>\n",
       "      <td>71</td>\n",
       "      <td>828</td>\n",
       "    </tr>\n",
       "    <tr>\n",
       "      <th>12348.0</th>\n",
       "      <td>73.0</td>\n",
       "      <td>20</td>\n",
       "      <td>373</td>\n",
       "    </tr>\n",
       "    <tr>\n",
       "      <th>12349.0</th>\n",
       "      <td>42.0</td>\n",
       "      <td>102</td>\n",
       "      <td>993</td>\n",
       "    </tr>\n",
       "    <tr>\n",
       "      <th>12351.0</th>\n",
       "      <td>10.0</td>\n",
       "      <td>21</td>\n",
       "      <td>261</td>\n",
       "    </tr>\n",
       "  </tbody>\n",
       "</table>\n",
       "</div>"
      ],
      "text/plain": [
       "             recency  frequency  monetary\n",
       "Customer ID                              \n",
       "12346.0        164.0         33        70\n",
       "12347.0          2.0         71       828\n",
       "12348.0         73.0         20       373\n",
       "12349.0         42.0        102       993\n",
       "12351.0         10.0         21       261"
      ]
     },
     "execution_count": 21,
     "metadata": {},
     "output_type": "execute_result"
    }
   ],
   "source": [
    "# Defining the columns:\n",
    "rfm.columns=['recency', 'frequency', 'monetary']\n",
    "\n",
    "rfm.head()"
   ]
  },
  {
   "cell_type": "code",
   "execution_count": 22,
   "id": "bf04c7f1",
   "metadata": {
    "scrolled": true
   },
   "outputs": [
    {
     "data": {
      "text/plain": [
       "recency         AxesSubplot(0.125,0.749828;0.133621x0.130172)\n",
       "frequency    AxesSubplot(0.285345,0.749828;0.133621x0.130172)\n",
       "monetary      AxesSubplot(0.44569,0.749828;0.133621x0.130172)\n",
       "dtype: object"
      ]
     },
     "execution_count": 22,
     "metadata": {},
     "output_type": "execute_result"
    },
    {
     "data": {
      "image/png": "[encoded data removed]",
      "text/plain": [
       "<Figure size 1800x1800 with 25 Axes>"
      ]
     },
     "metadata": {
      "needs_background": "light"
     },
     "output_type": "display_data"
    }
   ],
   "source": [
    "#checking the outliers\n",
    "\n",
    "rfm.plot(kind=\"box\", subplots=True, layout=(5,5), figsize=(25,25))"
   ]
  },
  {
   "cell_type": "code",
   "execution_count": 23,
   "id": "d2ff569d",
   "metadata": {},
   "outputs": [],
   "source": [
    "#Delete outliers\n",
    "\n",
    "cols = ['recency', 'frequency', 'monetary' ] # one or more\n",
    "\n",
    "Q1 = rfm[cols].quantile(0.25)\n",
    "Q3 = rfm[cols].quantile(0.75)\n",
    "IQR = Q3 - Q1\n",
    "\n",
    "rfm = rfm[~((rfm[cols] < (Q1 - 1.5 * IQR)) |(rfm[cols] > (Q3 + 1.5 * IQR))).any(axis=1)]\n",
    "\n"
   ]
  },
  {
   "cell_type": "code",
   "execution_count": 24,
   "id": "c25e1276",
   "metadata": {},
   "outputs": [
    {
     "name": "stderr",
     "output_type": "stream",
     "text": [
      "/Users/masc/opt/anaconda3/lib/python3.8/site-packages/seaborn/distributions.py:2557: FutureWarning: `distplot` is a deprecated function and will be removed in a future version. Please adapt your code to use either `displot` (a figure-level function with similar flexibility) or `histplot` (an axes-level function for histograms).\n",
      "  warnings.warn(msg, FutureWarning)\n"
     ]
    },
    {
     "data": {
      "text/plain": [
       "Text(0.5, 0, 'Days since last purchase')"
      ]
     },
     "execution_count": 24,
     "metadata": {},
     "output_type": "execute_result"
    },
    {
     "data": {
      "image/png": "[encoded data removed]",
      "text/plain": [
       "<Figure size 576x576 with 1 Axes>"
      ]
     },
     "metadata": {
      "needs_background": "light"
     },
     "output_type": "display_data"
    }
   ],
   "source": [
    "# Plotting for the last day since the customer made a purchase:\n",
    "\n",
    "import seaborn as sns\n",
    "import matplotlib.pyplot as plt\n",
    "\n",
    "plt.figure(figsize=(8,8))\n",
    "sns.set_context(\"poster\")\n",
    "sns.set_palette(['skyblue'])\n",
    "sns.distplot(rfm['recency'])\n",
    "plt.xlabel('Days since last purchase')"
   ]
  },
  {
   "cell_type": "code",
   "execution_count": 25,
   "id": "cb7aaf22",
   "metadata": {},
   "outputs": [
    {
     "name": "stderr",
     "output_type": "stream",
     "text": [
      "/Users/masc/opt/anaconda3/lib/python3.8/site-packages/seaborn/distributions.py:2557: FutureWarning: `distplot` is a deprecated function and will be removed in a future version. Please adapt your code to use either `displot` (a figure-level function with similar flexibility) or `histplot` (an axes-level function for histograms).\n",
      "  warnings.warn(msg, FutureWarning)\n"
     ]
    },
    {
     "data": {
      "text/plain": [
       "<AxesSubplot:xlabel='frequency', ylabel='Density'>"
      ]
     },
     "execution_count": 25,
     "metadata": {},
     "output_type": "execute_result"
    },
    {
     "data": {
      "image/png": "[encoded data removed]",
      "text/plain": [
       "<Figure size 432x432 with 1 Axes>"
      ]
     },
     "metadata": {
      "needs_background": "light"
     },
     "output_type": "display_data"
    }
   ],
   "source": [
    "# Plotting the number of times the customer has made a purchase:\n",
    "\n",
    "plt.figure(figsize=(6,6))\n",
    "sns.set_context(\"poster\")\n",
    "sns.set_palette(['pink'])\n",
    "sns.distplot(rfm['frequency'])"
   ]
  },
  {
   "cell_type": "code",
   "execution_count": 26,
   "id": "fed911c1",
   "metadata": {},
   "outputs": [
    {
     "name": "stderr",
     "output_type": "stream",
     "text": [
      "/Users/masc/opt/anaconda3/lib/python3.8/site-packages/seaborn/distributions.py:2557: FutureWarning: `distplot` is a deprecated function and will be removed in a future version. Please adapt your code to use either `displot` (a figure-level function with similar flexibility) or `histplot` (an axes-level function for histograms).\n",
      "  warnings.warn(msg, FutureWarning)\n"
     ]
    },
    {
     "data": {
      "text/plain": [
       "Text(0.5, 0, 'Dollars')"
      ]
     },
     "execution_count": 26,
     "metadata": {},
     "output_type": "execute_result"
    },
    {
     "data": {
      "image/png": "[encoded data removed]",
      "text/plain": [
       "<Figure size 720x720 with 1 Axes>"
      ]
     },
     "metadata": {
      "needs_background": "light"
     },
     "output_type": "display_data"
    }
   ],
   "source": [
    "# Plotting the total revenue that the particular customer brought in to the shop:\n",
    "\n",
    "plt.figure(figsize=(10,10))\n",
    "sns.set_context(\"poster\")\n",
    "sns.set_palette(['orange'])\n",
    "sns.distplot(rfm['monetary'])\n",
    "plt.xlabel('Dollars')"
   ]
  },
  {
   "cell_type": "markdown",
   "id": "713eef23",
   "metadata": {},
   "source": [
    "After getting a basic idea of what the distribution of the three indicators, we use quantiles to analyse further with quantiles."
   ]
  },
  {
   "cell_type": "markdown",
   "id": "6a984c25",
   "metadata": {},
   "source": [
    "### K-Means Model"
   ]
  },
  {
   "cell_type": "markdown",
   "id": "3fa5a0b5",
   "metadata": {},
   "source": [
    ") Preprocessing the data to find the three key elements needed:\n",
    "\n",
    "    - Recency\n",
    "    - Frequency\n",
    "    - Monetary Value\n",
    "\n",
    "2) Using the KMeans Algorithm to find the cluster of customers with high average monetary value and are highly frequent.\n",
    "\n",
    "3) The cluster taken out now would be put through RFM Analysis and processed.\n",
    "\n",
    "4) Customers with the highest Aggregate RFM Scores would be considered the Actual Superfans."
   ]
  },
  {
   "cell_type": "code",
   "execution_count": 54,
   "id": "9573bba4",
   "metadata": {},
   "outputs": [],
   "source": [
    "# Making a copy so that I don't lose my temper over messing up a previously perfect dataframe.\n",
    "RFM = rfm.copy()\n",
    "\n",
    "# Importing KMeans and finding clusters:\n",
    "from sklearn.cluster import KMeans\n",
    "\n",
    "km = KMeans(n_clusters = 4, init = 'k-means++')\n",
    "\n",
    "nclusters = km.fit_predict(RFM)\n",
    "\n",
    "clusters = pd.DataFrame(nclusters, columns = ['clusters'], index = RFM.index)\n",
    "\n",
    "# Concatenating the clusters with the RFM dataframe:\n",
    "rfmK= pd.concat([RFM, clusters], axis=1)"
   ]
  },
  {
   "cell_type": "code",
   "execution_count": 55,
   "id": "f14074d2",
   "metadata": {},
   "outputs": [
    {
     "data": {
      "text/plain": [
       "<AxesSubplot:xlabel='frequency', ylabel='monetary'>"
      ]
     },
     "execution_count": 55,
     "metadata": {},
     "output_type": "execute_result"
    },
    {
     "data": {
      "image/png": "[encoded data removed]",
      "text/plain": [
       "<Figure size 576x576 with 1 Axes>"
      ]
     },
     "metadata": {
      "needs_background": "light"
     },
     "output_type": "display_data"
    }
   ],
   "source": [
    "plt.figure(figsize=(8,8))\n",
    "sns.scatterplot(data = rfmK, x='frequency', y='monetary', hue='clusters')"
   ]
  },
  {
   "cell_type": "markdown",
   "id": "97861470",
   "metadata": {},
   "source": [
    "Since it is clear that the cluster with the number 2 as its index has the highest frequency and monetary value, lets use it. The clusters with the index as 1 are the thrifty customers who don't visit the shop that much and don't pay much too. 0 and 3 are in between the extremes."
   ]
  },
  {
   "cell_type": "code",
   "execution_count": 56,
   "id": "6c2eb3fa",
   "metadata": {},
   "outputs": [],
   "source": [
    "RFMKMEANS = rfmK.copy()\n",
    "\n",
    "RFMKMEANS['clusters'] = ['SuperFans' if x == 3 else x for x in RFMKMEANS['clusters']]\n",
    "RFMKMEANS['clusters'] = ['UsualCustomers' if x == 2 else x for x in RFMKMEANS['clusters']]\n",
    "RFMKMEANS['clusters'] = ['FrequentCustomers' if x == 0 else x for x in RFMKMEANS['clusters']]\n",
    "RFMKMEANS['clusters'] = ['Thrifters' if x == 1 else x for x in RFMKMEANS['clusters']]"
   ]
  },
  {
   "cell_type": "code",
   "execution_count": 57,
   "id": "2b1ec569",
   "metadata": {},
   "outputs": [
    {
     "name": "stderr",
     "output_type": "stream",
     "text": [
      "/Users/masc/opt/anaconda3/lib/python3.8/site-packages/seaborn/_decorators.py:36: FutureWarning: Pass the following variable as a keyword arg: x. From version 0.12, the only valid positional argument will be `data`, and passing other arguments without an explicit keyword will result in an error or misinterpretation.\n",
      "  warnings.warn(\n"
     ]
    },
    {
     "data": {
      "text/plain": [
       "<AxesSubplot:xlabel='clusters', ylabel='count'>"
      ]
     },
     "execution_count": 57,
     "metadata": {},
     "output_type": "execute_result"
    },
    {
     "data": {
      "image/png": "[encoded data removed]",
      "text/plain": [
       "<Figure size 1080x504 with 1 Axes>"
      ]
     },
     "metadata": {
      "needs_background": "light"
     },
     "output_type": "display_data"
    }
   ],
   "source": [
    "plt.figure(figsize=(15,7))\n",
    "sns.set_context(\"poster\", font_scale=0.7)\n",
    "sns.set_palette('twilight')\n",
    "sns.countplot(RFMKMEANS['clusters'])"
   ]
  },
  {
   "cell_type": "markdown",
   "id": "a6177f21",
   "metadata": {},
   "source": [
    "Since, we have the cluster, now seperate the cluster from the dataframe:"
   ]
  },
  {
   "cell_type": "code",
   "execution_count": 58,
   "id": "59ad20c7",
   "metadata": {},
   "outputs": [
    {
     "data": {
      "text/html": [
       "<div>\n",
       "<style scoped>\n",
       "    .dataframe tbody tr th:only-of-type {\n",
       "        vertical-align: middle;\n",
       "    }\n",
       "\n",
       "    .dataframe tbody tr th {\n",
       "        vertical-align: top;\n",
       "    }\n",
       "\n",
       "    .dataframe thead th {\n",
       "        text-align: right;\n",
       "    }\n",
       "</style>\n",
       "<table border=\"1\" class=\"dataframe\">\n",
       "  <thead>\n",
       "    <tr style=\"text-align: right;\">\n",
       "      <th></th>\n",
       "      <th>recency</th>\n",
       "      <th>frequency</th>\n",
       "      <th>monetary</th>\n",
       "      <th>clusters</th>\n",
       "    </tr>\n",
       "    <tr>\n",
       "      <th>Customer ID</th>\n",
       "      <th></th>\n",
       "      <th></th>\n",
       "      <th></th>\n",
       "      <th></th>\n",
       "    </tr>\n",
       "  </thead>\n",
       "  <tbody>\n",
       "    <tr>\n",
       "      <th>12347.0</th>\n",
       "      <td>2.0</td>\n",
       "      <td>71</td>\n",
       "      <td>828</td>\n",
       "      <td>2</td>\n",
       "    </tr>\n",
       "    <tr>\n",
       "      <th>12349.0</th>\n",
       "      <td>42.0</td>\n",
       "      <td>102</td>\n",
       "      <td>993</td>\n",
       "      <td>2</td>\n",
       "    </tr>\n",
       "    <tr>\n",
       "      <th>12358.0</th>\n",
       "      <td>10.0</td>\n",
       "      <td>58</td>\n",
       "      <td>831</td>\n",
       "      <td>2</td>\n",
       "    </tr>\n",
       "    <tr>\n",
       "      <th>12359.0</th>\n",
       "      <td>60.0</td>\n",
       "      <td>117</td>\n",
       "      <td>1130</td>\n",
       "      <td>2</td>\n",
       "    </tr>\n",
       "    <tr>\n",
       "      <th>12360.0</th>\n",
       "      <td>14.0</td>\n",
       "      <td>88</td>\n",
       "      <td>1294</td>\n",
       "      <td>2</td>\n",
       "    </tr>\n",
       "  </tbody>\n",
       "</table>\n",
       "</div>"
      ],
      "text/plain": [
       "             recency  frequency  monetary  clusters\n",
       "Customer ID                                        \n",
       "12347.0          2.0         71       828         2\n",
       "12349.0         42.0        102       993         2\n",
       "12358.0         10.0         58       831         2\n",
       "12359.0         60.0        117      1130         2\n",
       "12360.0         14.0         88      1294         2"
      ]
     },
     "execution_count": 58,
     "metadata": {},
     "output_type": "execute_result"
    }
   ],
   "source": [
    "superfans_df = rfmK.loc[rfmK['clusters'] == 2]\n",
    "superfans_df.head()"
   ]
  },
  {
   "cell_type": "code",
   "execution_count": 59,
   "id": "aa840697",
   "metadata": {
    "scrolled": true
   },
   "outputs": [
    {
     "name": "stderr",
     "output_type": "stream",
     "text": [
      "/Users/masc/opt/anaconda3/lib/python3.8/site-packages/pandas/core/frame.py:4308: SettingWithCopyWarning: \n",
      "A value is trying to be set on a copy of a slice from a DataFrame\n",
      "\n",
      "See the caveats in the documentation: https://pandas.pydata.org/pandas-docs/stable/user_guide/indexing.html#returning-a-view-versus-a-copy\n",
      "  return super().drop(\n"
     ]
    }
   ],
   "source": [
    "# Dropping the clusters column because there's just a single value which is 2 in the whole column:\n",
    "superfans_df.drop(['clusters'], axis= 1, inplace=True)"
   ]
  },
  {
   "cell_type": "code",
   "execution_count": 71,
   "id": "3a7b695a",
   "metadata": {},
   "outputs": [
    {
     "data": {
      "text/html": [
       "<div>\n",
       "<style scoped>\n",
       "    .dataframe tbody tr th:only-of-type {\n",
       "        vertical-align: middle;\n",
       "    }\n",
       "\n",
       "    .dataframe tbody tr th {\n",
       "        vertical-align: top;\n",
       "    }\n",
       "\n",
       "    .dataframe thead th {\n",
       "        text-align: right;\n",
       "    }\n",
       "</style>\n",
       "<table border=\"1\" class=\"dataframe\">\n",
       "  <thead>\n",
       "    <tr style=\"text-align: right;\">\n",
       "      <th></th>\n",
       "      <th>recency</th>\n",
       "      <th>frequency</th>\n",
       "      <th>monetary</th>\n",
       "    </tr>\n",
       "  </thead>\n",
       "  <tbody>\n",
       "    <tr>\n",
       "      <th>0.25</th>\n",
       "      <td>14.0</td>\n",
       "      <td>64.0</td>\n",
       "      <td>902.00</td>\n",
       "    </tr>\n",
       "    <tr>\n",
       "      <th>0.50</th>\n",
       "      <td>35.0</td>\n",
       "      <td>91.0</td>\n",
       "      <td>1026.00</td>\n",
       "    </tr>\n",
       "    <tr>\n",
       "      <th>0.75</th>\n",
       "      <td>71.0</td>\n",
       "      <td>125.0</td>\n",
       "      <td>1171.75</td>\n",
       "    </tr>\n",
       "    <tr>\n",
       "      <th>1.00</th>\n",
       "      <td>304.0</td>\n",
       "      <td>226.0</td>\n",
       "      <td>1404.00</td>\n",
       "    </tr>\n",
       "  </tbody>\n",
       "</table>\n",
       "</div>"
      ],
      "text/plain": [
       "      recency  frequency  monetary\n",
       "0.25     14.0       64.0    902.00\n",
       "0.50     35.0       91.0   1026.00\n",
       "0.75     71.0      125.0   1171.75\n",
       "1.00    304.0      226.0   1404.00"
      ]
     },
     "execution_count": 71,
     "metadata": {},
     "output_type": "execute_result"
    }
   ],
   "source": [
    "# Lets take a look at the quantile:\n",
    "superfans_df.quantile([.25, .5, .75, 1], axis=0)"
   ]
  },
  {
   "cell_type": "code",
   "execution_count": 72,
   "id": "5c6b7627",
   "metadata": {},
   "outputs": [],
   "source": [
    "# Copying the RFM dataset so that it isn't affected by the changes:\n",
    "RFMscores = superfans_df.copy()"
   ]
  },
  {
   "cell_type": "markdown",
   "id": "bfe37a56",
   "metadata": {},
   "source": [
    "Below is the conversion of columns into RFM scores between 1 to 4. These will come handy in calculating the aggregate RFM Score. As per the quantile have been assigned the indices in the columns a value between 1 to 4.\n",
    "\n",
    "'4' being great and '1' being poor.\n",
    "\n",
    "Apart from that what must be noted is that different columns see this score differently. Such as, the higher the monetary value the higher chance of that value being 4 since more revenue is never a bad thing. While, smaller the value of Recency the more likely it is that the index will be given the value of 1, since the more recent customer is more likely to comeback. In case of Frequency the metrics are the same as Monetary since, higher the Frequency the more beneficial it is for business."
   ]
  },
  {
   "cell_type": "code",
   "execution_count": 73,
   "id": "f161f5a4",
   "metadata": {},
   "outputs": [],
   "source": [
    "# Converting Recency:\n",
    "\n",
    "RFMscores['recency'] = [4 if x <= 14 else x for x in RFMscores['recency']]\n",
    "RFMscores['recency'] = [3 if 14 < x <= 35 else x for x in RFMscores['recency']]\n",
    "RFMscores['recency'] = [2 if 35 < x <= 71 else x for x in RFMscores['recency']]\n",
    "RFMscores['recency'] = [1 if x > 71 else x for x in RFMscores['recency']]"
   ]
  },
  {
   "cell_type": "code",
   "execution_count": 74,
   "id": "48a0d207",
   "metadata": {},
   "outputs": [],
   "source": [
    "# Converting Frequency:\n",
    "\n",
    "RFMscores['frequency'] = [1 if a <= 64 else a for a in RFMscores['frequency']]\n",
    "RFMscores['frequency'] = [2 if 64 < a <= 91 else a for a in RFMscores['frequency']]\n",
    "RFMscores['frequency'] = [3 if 91 < a <= 125 else a for a in RFMscores['frequency']]\n",
    "RFMscores['frequency'] = [4 if a > 125 else a for a in RFMscores['frequency']]"
   ]
  },
  {
   "cell_type": "code",
   "execution_count": 75,
   "id": "8976994d",
   "metadata": {},
   "outputs": [],
   "source": [
    "# Converting Monetary:\n",
    "\n",
    "RFMscores['monetary'] = [1 if x <= 902 else x for x in RFMscores['monetary']]\n",
    "RFMscores['monetary'] = [2 if 902 < x <= 1026 else x for x in RFMscores['monetary']]\n",
    "RFMscores['monetary'] = [3 if 1026 < x <= 1171.75 else x for x in RFMscores['monetary']]\n",
    "RFMscores['monetary'] = [4 if x > 1171.75  else x for x in RFMscores['monetary']]"
   ]
  },
  {
   "cell_type": "markdown",
   "id": "274c9de9",
   "metadata": {},
   "source": [
    "check if we got it right by taking a look at the number of unique values in each column:"
   ]
  },
  {
   "cell_type": "code",
   "execution_count": 76,
   "id": "f061b587",
   "metadata": {},
   "outputs": [
    {
     "data": {
      "text/plain": [
       "recency      4\n",
       "frequency    4\n",
       "monetary     4\n",
       "dtype: int64"
      ]
     },
     "execution_count": 76,
     "metadata": {},
     "output_type": "execute_result"
    }
   ],
   "source": [
    "RFMscores.apply(pd.Series.nunique)"
   ]
  },
  {
   "cell_type": "code",
   "execution_count": 77,
   "id": "bf8fc0b2",
   "metadata": {},
   "outputs": [
    {
     "data": {
      "text/html": [
       "<div>\n",
       "<style scoped>\n",
       "    .dataframe tbody tr th:only-of-type {\n",
       "        vertical-align: middle;\n",
       "    }\n",
       "\n",
       "    .dataframe tbody tr th {\n",
       "        vertical-align: top;\n",
       "    }\n",
       "\n",
       "    .dataframe thead th {\n",
       "        text-align: right;\n",
       "    }\n",
       "</style>\n",
       "<table border=\"1\" class=\"dataframe\">\n",
       "  <thead>\n",
       "    <tr style=\"text-align: right;\">\n",
       "      <th></th>\n",
       "      <th>recency</th>\n",
       "      <th>frequency</th>\n",
       "      <th>monetary</th>\n",
       "    </tr>\n",
       "    <tr>\n",
       "      <th>Customer ID</th>\n",
       "      <th></th>\n",
       "      <th></th>\n",
       "      <th></th>\n",
       "    </tr>\n",
       "  </thead>\n",
       "  <tbody>\n",
       "    <tr>\n",
       "      <th>12347.0</th>\n",
       "      <td>4.0</td>\n",
       "      <td>2</td>\n",
       "      <td>1</td>\n",
       "    </tr>\n",
       "    <tr>\n",
       "      <th>12349.0</th>\n",
       "      <td>2.0</td>\n",
       "      <td>3</td>\n",
       "      <td>2</td>\n",
       "    </tr>\n",
       "    <tr>\n",
       "      <th>12358.0</th>\n",
       "      <td>4.0</td>\n",
       "      <td>1</td>\n",
       "      <td>1</td>\n",
       "    </tr>\n",
       "    <tr>\n",
       "      <th>12359.0</th>\n",
       "      <td>2.0</td>\n",
       "      <td>3</td>\n",
       "      <td>3</td>\n",
       "    </tr>\n",
       "    <tr>\n",
       "      <th>12360.0</th>\n",
       "      <td>4.0</td>\n",
       "      <td>2</td>\n",
       "      <td>4</td>\n",
       "    </tr>\n",
       "  </tbody>\n",
       "</table>\n",
       "</div>"
      ],
      "text/plain": [
       "             recency  frequency  monetary\n",
       "Customer ID                              \n",
       "12347.0          4.0          2         1\n",
       "12349.0          2.0          3         2\n",
       "12358.0          4.0          1         1\n",
       "12359.0          2.0          3         3\n",
       "12360.0          4.0          2         4"
      ]
     },
     "execution_count": 77,
     "metadata": {},
     "output_type": "execute_result"
    }
   ],
   "source": [
    "RFMscores.head()"
   ]
  },
  {
   "cell_type": "markdown",
   "id": "047d4bf7",
   "metadata": {},
   "source": [
    "### Aggregate RFM Score:"
   ]
  },
  {
   "cell_type": "markdown",
   "id": "ca835d7d",
   "metadata": {},
   "source": [
    "The aggregate RFM Score is basically the average of the RFM values in the RFM Scores dataset:"
   ]
  },
  {
   "cell_type": "code",
   "execution_count": 79,
   "id": "05d398ac",
   "metadata": {},
   "outputs": [],
   "source": [
    "score = pd.DataFrame((RFMscores['recency'] + RFMscores['frequency'] + RFMscores['monetary'])/3, columns=['AggrScore'])"
   ]
  },
  {
   "cell_type": "code",
   "execution_count": 80,
   "id": "794f579e",
   "metadata": {},
   "outputs": [],
   "source": [
    "# Concatenating the two:\n",
    "RFMscores = pd.concat([RFMscores, score], axis = 1)"
   ]
  },
  {
   "cell_type": "code",
   "execution_count": 81,
   "id": "742a2dec",
   "metadata": {
    "scrolled": true
   },
   "outputs": [
    {
     "data": {
      "text/html": [
       "<div>\n",
       "<style scoped>\n",
       "    .dataframe tbody tr th:only-of-type {\n",
       "        vertical-align: middle;\n",
       "    }\n",
       "\n",
       "    .dataframe tbody tr th {\n",
       "        vertical-align: top;\n",
       "    }\n",
       "\n",
       "    .dataframe thead th {\n",
       "        text-align: right;\n",
       "    }\n",
       "</style>\n",
       "<table border=\"1\" class=\"dataframe\">\n",
       "  <thead>\n",
       "    <tr style=\"text-align: right;\">\n",
       "      <th></th>\n",
       "      <th>recency</th>\n",
       "      <th>frequency</th>\n",
       "      <th>monetary</th>\n",
       "      <th>AggrScore</th>\n",
       "    </tr>\n",
       "    <tr>\n",
       "      <th>Customer ID</th>\n",
       "      <th></th>\n",
       "      <th></th>\n",
       "      <th></th>\n",
       "      <th></th>\n",
       "    </tr>\n",
       "  </thead>\n",
       "  <tbody>\n",
       "    <tr>\n",
       "      <th>12347.0</th>\n",
       "      <td>4.0</td>\n",
       "      <td>2</td>\n",
       "      <td>1</td>\n",
       "      <td>2.333333</td>\n",
       "    </tr>\n",
       "    <tr>\n",
       "      <th>12349.0</th>\n",
       "      <td>2.0</td>\n",
       "      <td>3</td>\n",
       "      <td>2</td>\n",
       "      <td>2.333333</td>\n",
       "    </tr>\n",
       "    <tr>\n",
       "      <th>12358.0</th>\n",
       "      <td>4.0</td>\n",
       "      <td>1</td>\n",
       "      <td>1</td>\n",
       "      <td>2.000000</td>\n",
       "    </tr>\n",
       "    <tr>\n",
       "      <th>12359.0</th>\n",
       "      <td>2.0</td>\n",
       "      <td>3</td>\n",
       "      <td>3</td>\n",
       "      <td>2.666667</td>\n",
       "    </tr>\n",
       "    <tr>\n",
       "      <th>12360.0</th>\n",
       "      <td>4.0</td>\n",
       "      <td>2</td>\n",
       "      <td>4</td>\n",
       "      <td>3.333333</td>\n",
       "    </tr>\n",
       "  </tbody>\n",
       "</table>\n",
       "</div>"
      ],
      "text/plain": [
       "             recency  frequency  monetary  AggrScore\n",
       "Customer ID                                         \n",
       "12347.0          4.0          2         1   2.333333\n",
       "12349.0          2.0          3         2   2.333333\n",
       "12358.0          4.0          1         1   2.000000\n",
       "12359.0          2.0          3         3   2.666667\n",
       "12360.0          4.0          2         4   3.333333"
      ]
     },
     "execution_count": 81,
     "metadata": {},
     "output_type": "execute_result"
    }
   ],
   "source": [
    "RFMscores.head()"
   ]
  },
  {
   "cell_type": "markdown",
   "id": "169d7977",
   "metadata": {},
   "source": [
    "### Most Valuable Customers (MVCs):"
   ]
  },
  {
   "cell_type": "code",
   "execution_count": 82,
   "id": "b2394cd4",
   "metadata": {},
   "outputs": [
    {
     "data": {
      "text/html": [
       "<div>\n",
       "<style scoped>\n",
       "    .dataframe tbody tr th:only-of-type {\n",
       "        vertical-align: middle;\n",
       "    }\n",
       "\n",
       "    .dataframe tbody tr th {\n",
       "        vertical-align: top;\n",
       "    }\n",
       "\n",
       "    .dataframe thead th {\n",
       "        text-align: right;\n",
       "    }\n",
       "</style>\n",
       "<table border=\"1\" class=\"dataframe\">\n",
       "  <thead>\n",
       "    <tr style=\"text-align: right;\">\n",
       "      <th></th>\n",
       "      <th>recency</th>\n",
       "      <th>frequency</th>\n",
       "      <th>monetary</th>\n",
       "      <th>AggrScore</th>\n",
       "    </tr>\n",
       "  </thead>\n",
       "  <tbody>\n",
       "    <tr>\n",
       "      <th>0.75</th>\n",
       "      <td>4.0</td>\n",
       "      <td>3.0</td>\n",
       "      <td>3.75</td>\n",
       "      <td>3.0</td>\n",
       "    </tr>\n",
       "  </tbody>\n",
       "</table>\n",
       "</div>"
      ],
      "text/plain": [
       "      recency  frequency  monetary  AggrScore\n",
       "0.75      4.0        3.0      3.75        3.0"
      ]
     },
     "execution_count": 82,
     "metadata": {},
     "output_type": "execute_result"
    }
   ],
   "source": [
    "# Using Quantiles we find the limit for our top 25% customers:\n",
    "RFMscores.quantile([.75], axis=0)"
   ]
  },
  {
   "cell_type": "markdown",
   "id": "0153ecb7",
   "metadata": {},
   "source": [
    "The top customers would be the ones who are in the top 25% of the top RFM Scores:"
   ]
  },
  {
   "cell_type": "code",
   "execution_count": 83,
   "id": "a6fc664c",
   "metadata": {},
   "outputs": [],
   "source": [
    "topcustomers = RFMscores['AggrScore'].iloc[[x >= 3 for x in RFMscores['AggrScore']]]"
   ]
  },
  {
   "cell_type": "code",
   "execution_count": 84,
   "id": "83742aca",
   "metadata": {},
   "outputs": [],
   "source": [
    "MVCs = pd.DataFrame(topcustomers, columns = ['AggrScore'])"
   ]
  },
  {
   "cell_type": "code",
   "execution_count": 85,
   "id": "9683aeae",
   "metadata": {},
   "outputs": [],
   "source": [
    "MostValuableCustomers = list(MVCs.index)"
   ]
  },
  {
   "cell_type": "code",
   "execution_count": 86,
   "id": "37802b1e",
   "metadata": {},
   "outputs": [
    {
     "data": {
      "text/plain": [
       "[12360.0,\n",
       " 12369.0,\n",
       " 12417.0,\n",
       " 12455.0,\n",
       " 12480.0,\n",
       " 12599.0,\n",
       " 12609.0,\n",
       " 12631.0,\n",
       " 12649.0,\n",
       " 12687.0,\n",
       " 12708.0,\n",
       " 12712.0,\n",
       " 12725.0,\n",
       " 12782.0,\n",
       " 12820.0,\n",
       " 12849.0,\n",
       " 12865.0,\n",
       " 12870.0,\n",
       " 12935.0,\n",
       " 12951.0,\n",
       " 12963.0,\n",
       " 12978.0,\n",
       " 13018.0,\n",
       " 13021.0,\n",
       " 13032.0,\n",
       " 13090.0,\n",
       " 13117.0,\n",
       " 13126.0,\n",
       " 13173.0,\n",
       " 13211.0,\n",
       " 13280.0,\n",
       " 13305.0,\n",
       " 13362.0,\n",
       " 13421.0,\n",
       " 13458.0,\n",
       " 13464.0,\n",
       " 13481.0,\n",
       " 13534.0,\n",
       " 13552.0,\n",
       " 13561.0,\n",
       " 13611.0,\n",
       " 13652.0,\n",
       " 13658.0,\n",
       " 13719.0,\n",
       " 13823.0,\n",
       " 13842.0,\n",
       " 13971.0,\n",
       " 13993.0,\n",
       " 14047.0,\n",
       " 14130.0,\n",
       " 14136.0,\n",
       " 14161.0,\n",
       " 14205.0,\n",
       " 14209.0,\n",
       " 14211.0,\n",
       " 14307.0,\n",
       " 14327.0,\n",
       " 14334.0,\n",
       " 14344.0,\n",
       " 14396.0,\n",
       " 14399.0,\n",
       " 14410.0,\n",
       " 14440.0,\n",
       " 14467.0,\n",
       " 14478.0,\n",
       " 14482.0,\n",
       " 14507.0,\n",
       " 14540.0,\n",
       " 14564.0,\n",
       " 14669.0,\n",
       " 14673.0,\n",
       " 14740.0,\n",
       " 14850.0,\n",
       " 14898.0,\n",
       " 14907.0,\n",
       " 14934.0,\n",
       " 14988.0,\n",
       " 15024.0,\n",
       " 15046.0,\n",
       " 15067.0,\n",
       " 15079.0,\n",
       " 15122.0,\n",
       " 15249.0,\n",
       " 15312.0,\n",
       " 15325.0,\n",
       " 15402.0,\n",
       " 15425.0,\n",
       " 15476.0,\n",
       " 15485.0,\n",
       " 15527.0,\n",
       " 15529.0,\n",
       " 15550.0,\n",
       " 15569.0,\n",
       " 15572.0,\n",
       " 15602.0,\n",
       " 15665.0,\n",
       " 15716.0,\n",
       " 15732.0,\n",
       " 15736.0,\n",
       " 15747.0,\n",
       " 15752.0,\n",
       " 15757.0,\n",
       " 15796.0,\n",
       " 15811.0,\n",
       " 15827.0,\n",
       " 15860.0,\n",
       " 15916.0,\n",
       " 16053.0,\n",
       " 16062.0,\n",
       " 16086.0,\n",
       " 16094.0,\n",
       " 16129.0,\n",
       " 16143.0,\n",
       " 16147.0,\n",
       " 16150.0,\n",
       " 16190.0,\n",
       " 16206.0,\n",
       " 16208.0,\n",
       " 16218.0,\n",
       " 16221.0,\n",
       " 16229.0,\n",
       " 16271.0,\n",
       " 16293.0,\n",
       " 16303.0,\n",
       " 16458.0,\n",
       " 16466.0,\n",
       " 16477.0,\n",
       " 16499.0,\n",
       " 16503.0,\n",
       " 16510.0,\n",
       " 16560.0,\n",
       " 16600.0,\n",
       " 16612.0,\n",
       " 16634.0,\n",
       " 16717.0,\n",
       " 16727.0,\n",
       " 16748.0,\n",
       " 16812.0,\n",
       " 16823.0,\n",
       " 16841.0,\n",
       " 16983.0,\n",
       " 16985.0,\n",
       " 16992.0,\n",
       " 17031.0,\n",
       " 17063.0,\n",
       " 17096.0,\n",
       " 17211.0,\n",
       " 17213.0,\n",
       " 17227.0,\n",
       " 17228.0,\n",
       " 17293.0,\n",
       " 17368.0,\n",
       " 17402.0,\n",
       " 17406.0,\n",
       " 17419.0,\n",
       " 17422.0,\n",
       " 17470.0,\n",
       " 17526.0,\n",
       " 17552.0,\n",
       " 17646.0,\n",
       " 17682.0,\n",
       " 17686.0,\n",
       " 17690.0,\n",
       " 17720.0,\n",
       " 17722.0,\n",
       " 17732.0,\n",
       " 17768.0,\n",
       " 17809.0,\n",
       " 17822.0,\n",
       " 17905.0,\n",
       " 17978.0,\n",
       " 18025.0,\n",
       " 18055.0,\n",
       " 18057.0,\n",
       " 18065.0,\n",
       " 18077.0,\n",
       " 18257.0]"
      ]
     },
     "execution_count": 86,
     "metadata": {},
     "output_type": "execute_result"
    }
   ],
   "source": [
    "MostValuableCustomers"
   ]
  },
  {
   "cell_type": "markdown",
   "id": "e8043cd9",
   "metadata": {},
   "source": [
    "These are the rows of customers who are the most valuable."
   ]
  },
  {
   "cell_type": "code",
   "execution_count": 87,
   "id": "0f49e327",
   "metadata": {},
   "outputs": [
    {
     "data": {
      "text/html": [
       "<div>\n",
       "<style scoped>\n",
       "    .dataframe tbody tr th:only-of-type {\n",
       "        vertical-align: middle;\n",
       "    }\n",
       "\n",
       "    .dataframe tbody tr th {\n",
       "        vertical-align: top;\n",
       "    }\n",
       "\n",
       "    .dataframe thead th {\n",
       "        text-align: right;\n",
       "    }\n",
       "</style>\n",
       "<table border=\"1\" class=\"dataframe\">\n",
       "  <thead>\n",
       "    <tr style=\"text-align: right;\">\n",
       "      <th></th>\n",
       "      <th>recency</th>\n",
       "      <th>frequency</th>\n",
       "      <th>monetary</th>\n",
       "      <th>clusters</th>\n",
       "    </tr>\n",
       "    <tr>\n",
       "      <th>Customer ID</th>\n",
       "      <th></th>\n",
       "      <th></th>\n",
       "      <th></th>\n",
       "      <th></th>\n",
       "    </tr>\n",
       "  </thead>\n",
       "  <tbody>\n",
       "    <tr>\n",
       "      <th>12360.0</th>\n",
       "      <td>14.0</td>\n",
       "      <td>88</td>\n",
       "      <td>1294</td>\n",
       "      <td>2</td>\n",
       "    </tr>\n",
       "    <tr>\n",
       "      <th>12369.0</th>\n",
       "      <td>48.0</td>\n",
       "      <td>93</td>\n",
       "      <td>1241</td>\n",
       "      <td>2</td>\n",
       "    </tr>\n",
       "    <tr>\n",
       "      <th>12417.0</th>\n",
       "      <td>45.0</td>\n",
       "      <td>178</td>\n",
       "      <td>1338</td>\n",
       "      <td>2</td>\n",
       "    </tr>\n",
       "    <tr>\n",
       "      <th>12455.0</th>\n",
       "      <td>80.0</td>\n",
       "      <td>137</td>\n",
       "      <td>1213</td>\n",
       "      <td>2</td>\n",
       "    </tr>\n",
       "    <tr>\n",
       "      <th>12480.0</th>\n",
       "      <td>34.0</td>\n",
       "      <td>88</td>\n",
       "      <td>1245</td>\n",
       "      <td>2</td>\n",
       "    </tr>\n",
       "    <tr>\n",
       "      <th>...</th>\n",
       "      <td>...</td>\n",
       "      <td>...</td>\n",
       "      <td>...</td>\n",
       "      <td>...</td>\n",
       "    </tr>\n",
       "    <tr>\n",
       "      <th>18055.0</th>\n",
       "      <td>2.0</td>\n",
       "      <td>224</td>\n",
       "      <td>1384</td>\n",
       "      <td>2</td>\n",
       "    </tr>\n",
       "    <tr>\n",
       "      <th>18057.0</th>\n",
       "      <td>28.0</td>\n",
       "      <td>140</td>\n",
       "      <td>978</td>\n",
       "      <td>2</td>\n",
       "    </tr>\n",
       "    <tr>\n",
       "      <th>18065.0</th>\n",
       "      <td>23.0</td>\n",
       "      <td>173</td>\n",
       "      <td>1238</td>\n",
       "      <td>2</td>\n",
       "    </tr>\n",
       "    <tr>\n",
       "      <th>18077.0</th>\n",
       "      <td>1.0</td>\n",
       "      <td>150</td>\n",
       "      <td>1355</td>\n",
       "      <td>2</td>\n",
       "    </tr>\n",
       "    <tr>\n",
       "      <th>18257.0</th>\n",
       "      <td>81.0</td>\n",
       "      <td>158</td>\n",
       "      <td>1328</td>\n",
       "      <td>2</td>\n",
       "    </tr>\n",
       "  </tbody>\n",
       "</table>\n",
       "<p>177 rows × 4 columns</p>\n",
       "</div>"
      ],
      "text/plain": [
       "             recency  frequency  monetary  clusters\n",
       "Customer ID                                        \n",
       "12360.0         14.0         88      1294         2\n",
       "12369.0         48.0         93      1241         2\n",
       "12417.0         45.0        178      1338         2\n",
       "12455.0         80.0        137      1213         2\n",
       "12480.0         34.0         88      1245         2\n",
       "...              ...        ...       ...       ...\n",
       "18055.0          2.0        224      1384         2\n",
       "18057.0         28.0        140       978         2\n",
       "18065.0         23.0        173      1238         2\n",
       "18077.0          1.0        150      1355         2\n",
       "18257.0         81.0        158      1328         2\n",
       "\n",
       "[177 rows x 4 columns]"
      ]
     },
     "execution_count": 87,
     "metadata": {},
     "output_type": "execute_result"
    }
   ],
   "source": [
    "rfmK.loc[MVCs.index]"
   ]
  },
  {
   "cell_type": "markdown",
   "id": "5eaf6f82",
   "metadata": {},
   "source": [
    "And thus, we have the names of the customers who love the store."
   ]
  },
  {
   "cell_type": "code",
   "execution_count": null,
   "id": "01021058",
   "metadata": {},
   "outputs": [],
   "source": []
  }
 ],
 "metadata": {
  "kernelspec": {
   "display_name": "Python 3",
   "language": "python",
   "name": "python3"
  },
  "language_info": {
   "codemirror_mode": {
    "name": "ipython",
    "version": 3
   },
   "file_extension": ".py",
   "mimetype": "text/x-python",
   "name": "python",
   "nbconvert_exporter": "python",
   "pygments_lexer": "ipython3",
   "version": "3.8.8"
  }
 },
 "nbformat": 4,
 "nbformat_minor": 5
}
